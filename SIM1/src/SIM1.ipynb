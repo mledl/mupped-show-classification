{
 "cells": [
  {
   "cell_type": "code",
   "execution_count": 11,
   "metadata": {},
   "outputs": [],
   "source": [
    "# imports\n",
    "import keras \n",
    "import cv2 # opencv\n",
    "import glob\n",
    "import os\n",
    "from pathlib import Path\n",
    "import matplotlib.pyplot as plt\n",
    "from skimage import color, feature\n",
    "import skimage.data\n",
    "import pandas as pd\n",
    "from moviepy.editor import *\n",
    "from sklearn.model_selection import train_test_split\n",
    "from sklearn.neighbors import KNeighborsClassifier\n",
    "from sklearn.metrics import accuracy_score, f1_score\n",
    "\n",
    "# definitons of constants/variables\n",
    "video_file_glob_path = '../../videos/*.avi'\n",
    "image_base_path = '../../images/'\n",
    "audio_base_path = '../../audio/'\n",
    "video_path = '../../ground_truth/Muppets-02-01-01/'\n",
    "label_file = '../../ground_truth/Muppets-02-01-01/Muppets-02-01-01.txt'"
   ]
  },
  {
   "cell_type": "code",
   "execution_count": 9,
   "metadata": {},
   "outputs": [],
   "source": [
    "# capture the videos and extract frames\n",
    "for video_path in glob.glob(video_file_glob_path):\n",
    "    cap = cv2.VideoCapture(video_path)\n",
    "    frame_rate = cap.get(cv2.CAP_PROP_FPS)\n",
    "    image_folder_path = image_base_path + os.path.basename(video_path).split('.')[0]\n",
    "    Path(image_folder_path).mkdir(parents=True, exist_ok=True)\n",
    "    \n",
    "    while(cap.isOpened()):\n",
    "        frame_id = cap.get(cv2.CAP_PROP_POS_FRAMES)\n",
    "        ret, frame = cap.read()\n",
    "        # frame = cv2.cvtColor(frame, cv2.COLOR_RGB2BGR)\n",
    "\n",
    "        if not ret:\n",
    "            print('Failed to read frame %d of video %r.', frame_id, video_path)\n",
    "            break\n",
    "            \n",
    "        filename = image_folder_path + '/frame%d.jpg' % frame_id\n",
    "        cv2.imwrite(filename, frame)\n",
    "        \n",
    "        if frame_id == 300:\n",
    "            break"
   ]
  },
  {
   "cell_type": "code",
   "execution_count": 7,
   "metadata": {},
   "outputs": [
    {
     "name": "stderr",
     "output_type": "stream",
     "text": [
      "chunk:   0%|                                                               | 3/34118 [00:00<24:55, 22.81it/s, now=None]"
     ]
    },
    {
     "name": "stdout",
     "output_type": "stream",
     "text": [
      "MoviePy - Writing audio in ../../audio/Muppets-02-01-01.wav\n"
     ]
    },
    {
     "name": "stderr",
     "output_type": "stream",
     "text": [
      "                                                                                                                       "
     ]
    },
    {
     "name": "stdout",
     "output_type": "stream",
     "text": [
      "MoviePy - Done.\n"
     ]
    },
    {
     "name": "stderr",
     "output_type": "stream",
     "text": [
      "\r"
     ]
    }
   ],
   "source": [
    "# extract audio from avi video\n",
    "Path(audio_base_path).mkdir(parents=True, exist_ok=True)\n",
    "for video_path in glob.glob(video_file_glob_path):\n",
    "    video = VideoFileClip(video_path)\n",
    "    filename = audio_base_path + os.path.basename(os.path.normpath(video_path)).split('.')[0] + '.wav'\n",
    "    video.audio.write_audiofile(filename)"
   ]
  },
  {
   "cell_type": "code",
   "execution_count": 13,
   "metadata": {},
   "outputs": [
    {
     "name": "stdout",
     "output_type": "stream",
     "text": [
      "Dataset statistics:\n",
      "Kermit:\t\t\t432\n",
      "Waldorf/Statler:\t150\n",
      "Pigs:\t\t\t119\n",
      "Swedish Chef:\t\t140\n",
      "None:\t\t\t2383\n",
      "Total:\t\t\t3224\n"
     ]
    }
   ],
   "source": [
    "# this section hold useful helper functions and transformers\n",
    "\n",
    "# method for image resizing and extracting vector of raw values\n",
    "def extract_value_vector(image, size=(128, 128)):\n",
    "    return cv2.resize(image, size).flatten()\n",
    "\n",
    "def extract_colour_histogram(image, bins=(32, 32, 32)):\n",
    "    # convert image to hsv space\n",
    "    hsv_image = cv2.cvtColor(image, cv2.COLOR_BGR2HSV)\n",
    "    \n",
    "    # extract color histogram from image and take all 3 channels into account\n",
    "    color_hist = cv2.calcHist([hsv_image], [0, 1, 2], None, bins, [0, 180, 0, 256, 0, 256])\n",
    "    \n",
    "    # normalize resulting histogram\n",
    "    cv2.normalize(color_hist, color_hist)\n",
    "    \n",
    "    # print resulting historgram\n",
    "    # plt.hist(image.ravel(),256,[0,256])\n",
    "    # cols = ('b', 'g', 'r')\n",
    "    # for i, col in enumerate(cols):\n",
    "    #     histr = cv2.calcHist([image],[i],None,[256],[0,256])\n",
    "    #     plt.plot(histr,color = col)\n",
    "    #     plt.xlim([0,256])\n",
    "    # plt.show()\n",
    "    \n",
    "    # return histogram as feature vector\n",
    "    return color_hist.flatten()\n",
    "\n",
    "def print_data_distribution(df):\n",
    "    kermits = sum(df['kermit'])\n",
    "    waldorf_statlers = sum(df['waldorf_and_statler'])\n",
    "    pigs = sum(df['pig'])\n",
    "    swedish_chefs = sum(df['swedish_chef'])\n",
    "    nones = len(df) - (kermits + waldorf_statlers + pigs + swedish_chefs)\n",
    "    \n",
    "    print('Dataset statistics:')\n",
    "    print('Kermit:\\t\\t\\t' + str(kermits))\n",
    "    print('Waldorf/Statler:\\t' + str(waldorf_statlers))\n",
    "    print('Pigs:\\t\\t\\t' + str(pigs))\n",
    "    print('Swedish Chef:\\t\\t' + str(swedish_chefs))\n",
    "    print('None:\\t\\t\\t' + str(nones))\n",
    "    print('Total:\\t\\t\\t' + str(len(df)))\n",
    "\n",
    "print_data_distribution(data)"
   ]
  },
  {
   "cell_type": "code",
   "execution_count": 12,
   "metadata": {},
   "outputs": [],
   "source": [
    "label_map = {0: 'kermit_the_frog',\n",
    "                 1: 'waldorf_and_statler',\n",
    "                 2: 'pig',\n",
    "                 3: 'swedish_chef',\n",
    "                 4: 'none'}\n",
    "\n",
    "data = pd.DataFrame([], columns=[\"name\", \"filename\", \"kermit\", \"waldorf_and_statler\", \"pig\", \"swedish_chef\"])\n",
    "\n",
    "with open(label_file) as file:\n",
    "    lines = file.readlines()\n",
    "    \n",
    "for line in lines:\n",
    "    splits = list(map(lambda line: line.strip(), line.split(\",\")))\n",
    "    name = splits[0]\n",
    "    labels = [int(splits[i]) for i in range(1, len(splits)) if int(splits[i]) != 4]\n",
    "        \n",
    "    filename = glob.glob(video_path + name + \"*\")[0]\n",
    "    data = data.append({'name': name,\n",
    "                        'filename': filename,\n",
    "                        'kermit': 1 if 0 in labels else 0,\n",
    "                        'waldorf_and_statler': 1 if 1 in labels else 0,\n",
    "                        'pig': 1 if 2 in labels else 0,\n",
    "                        'swedish_chef': 1 if 3 in labels else 0}, ignore_index=True)\n",
    "\n",
    "#data.to_csv(\"data.csv\")\n",
    "    "
   ]
  },
  {
   "cell_type": "code",
   "execution_count": 15,
   "metadata": {},
   "outputs": [
    {
     "name": "stdout",
     "output_type": "stream",
     "text": [
      "[INFO] start preprocessing images (color histogram)\n",
      "[INFO] images preprocessed %d/%d 0 3224\n",
      "[INFO] images preprocessed %d/%d 200 3224\n",
      "[INFO] images preprocessed %d/%d 400 3224\n",
      "[INFO] images preprocessed %d/%d 600 3224\n",
      "[INFO] images preprocessed %d/%d 800 3224\n",
      "[INFO] images preprocessed %d/%d 1000 3224\n",
      "[INFO] images preprocessed %d/%d 1200 3224\n",
      "[INFO] images preprocessed %d/%d 1400 3224\n",
      "[INFO] images preprocessed %d/%d 1600 3224\n",
      "[INFO] images preprocessed %d/%d 1800 3224\n",
      "[INFO] images preprocessed %d/%d 2000 3224\n",
      "[INFO] images preprocessed %d/%d 2200 3224\n",
      "[INFO] images preprocessed %d/%d 2400 3224\n",
      "[INFO] images preprocessed %d/%d 2600 3224\n",
      "[INFO] images preprocessed %d/%d 2800 3224\n",
      "[INFO] images preprocessed %d/%d 3000 3224\n",
      "[INFO] images preprocessed %d/%d 3200 3224\n",
      "[INFO] Start training and evaluating classifier for Kermit the frog\n",
      "[INFO] Train KNN model for raw pixels\n",
      "[INFO] KNN hyperparameter: k=%d 20\n",
      "[INFO] KNN raw pixel acc: 0.9648760330578512\n",
      "[INFO] KNN raw pixel f1-score: 0.9647708723927955\n",
      "[INFO] Train KNN model for color histogram features\n",
      "[INFO] KNN hyperparameter: k=%d 20\n",
      "[INFO] KNN color histogram acc: 0.96900826446281\n",
      "[INFO] KNN raw pixel f1-score: 0.9694681142309601\n"
     ]
    }
   ],
   "source": [
    "## Identifying Kermit\n",
    "\n",
    "df1 = data.copy()\n",
    "\n",
    "# init data structures for feature vectors, image pixel values and labels\n",
    "hist_features = []\n",
    "images_raw_pixels = []\n",
    "labels = []\n",
    "\n",
    "print('[INFO] start preprocessing images (color histogram)')\n",
    "\n",
    "# iterate over all provided images and extract features, labels and image pixels\n",
    "for idx, row in df1.iterrows():\n",
    "    img = cv2.imread(row['filename'])\n",
    "    \n",
    "    # extract color distribution of the image\n",
    "    img_color_hist = extract_colour_histogram(img)\n",
    "    \n",
    "    # extract raw pixels of the image\n",
    "    img_pixels = extract_value_vector(img)\n",
    "    \n",
    "    hist_features.append(img_color_hist)\n",
    "    images_raw_pixels.append(img_pixels)\n",
    "    \n",
    "    # 0 if not kermit, 1 if kermit in the image\n",
    "    labels.append(row['kermit'])\n",
    "    \n",
    "    # show process\n",
    "    if idx % 200 == 0:\n",
    "        print('[INFO] images preprocessed %d/%d' % (idx, len(df1)))\n",
    "\n",
    "# split data into training and test sets for raw pixel data\n",
    "x_train_raw, x_test_raw, y_train_raw, y_test_raw = train_test_split(images_raw_pixels, labels, test_size=0.3)\n",
    "\n",
    "# split data into training and test sets for histogram features\n",
    "x_train_hist, x_test_hist, y_train_hist, y_test_hist = train_test_split(hist_features, labels, test_size=0.3)\n",
    "\n",
    "# variables for classifier configuration\n",
    "k = 20\n",
    "\n",
    "print('[INFO] Start training and evaluating classifier for Kermit the frog')\n",
    "\n",
    "# train a KNN classifier on raw pixel data\n",
    "print('[INFO] Train KNN model for raw pixels')\n",
    "model_raw = KNeighborsClassifier(n_neighbors=k)\n",
    "model_raw.fit(x_train_raw, y_train_raw)\n",
    "print('[INFO] Predict test data for raw pixels')\n",
    "y_pred_raw = model_raw.predict(x_test_raw)\n",
    "acc_knn_raw = accuracy_score(y_test_raw, y_pred_raw)\n",
    "f1_knn_raw = f1_score(y_test_raw, y_pred_raw, average='weighted')\n",
    "print('[INFO] KNN hyperparameter: k=%d', k)\n",
    "print('[INFO] KNN raw pixel acc: ' + str(acc_knn_raw))\n",
    "print('[INFO] KNN raw pixel f1-score: ' + str(f1_knn_raw))\n",
    "\n",
    "\n",
    "# train a KNN classifier on histogram features\n",
    "print('[INFO] Train KNN model for color histogram features')\n",
    "model_hist = KNeighborsClassifier(n_neighbors=k)\n",
    "model_hist.fit(x_train_hist, y_train_hist)\n",
    "y_pred_hist = model_hist.predict(x_test_hist)\n",
    "print('[INFO] Predict test data for color histogram')\n",
    "acc_knn_hist = accuracy_score(y_test_hist, y_pred_hist)\n",
    "f1_knn_hist = f1_score(y_test_hist, y_pred_hist, average='weighted')\n",
    "\n",
    "print('[INFO] KNN hyperparameter: k=%d', k)\n",
    "print('[INFO] KNN color histogram acc: ' + str(acc_knn_hist))\n",
    "print('[INFO] KNN raw pixel f1-score: ' + str(f1_knn_hist))"
   ]
  },
  {
   "cell_type": "code",
   "execution_count": 11,
   "metadata": {},
   "outputs": [],
   "source": [
    "## Identifying Waldorf/Statler"
   ]
  }
 ],
 "metadata": {
  "kernelspec": {
   "display_name": "Python 3",
   "language": "python",
   "name": "python3"
  },
  "language_info": {
   "codemirror_mode": {
    "name": "ipython",
    "version": 3
   },
   "file_extension": ".py",
   "mimetype": "text/x-python",
   "name": "python",
   "nbconvert_exporter": "python",
   "pygments_lexer": "ipython3",
   "version": "3.7.4"
  }
 },
 "nbformat": 4,
 "nbformat_minor": 2
}
