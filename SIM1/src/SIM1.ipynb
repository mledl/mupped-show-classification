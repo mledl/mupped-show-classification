{
 "cells": [
  {
   "cell_type": "code",
   "execution_count": 1,
   "metadata": {},
   "outputs": [],
   "source": [
    "# imports\n",
    "import cv2 # opencv\n",
    "import matplotlib.pyplot as plt\n",
    "import pandas as pd\n",
    "import numpy as np\n",
    "from sklearn.neighbors import KNeighborsClassifier\n",
    "from sklearn.ensemble import RandomForestClassifier\n",
    "from sklearn.metrics import classification_report, plot_confusion_matrix, plot_roc_curve\n",
    "from dataset_generator import get_waldorf_statler_mfcc_features, create_kermit_image_dataset\n",
    "\n",
    "# definitons of constants/variables\n",
    "video_file_glob_path = '../../videos/*.avi'\n",
    "audio_base_path = '../../audio/'\n",
    "kermit_data_path = '../../ground_truth/kermit/'\n",
    "kermit_label_file = kermit_data_path + 'labels.txt'\n",
    "evaluation_base_path = '../../evaluation/'\n",
    "\n",
    "label_map = {0: 'kermit_the_frog',\n",
    "             1: 'waldorf_and_statler',\n",
    "             2: 'pig',\n",
    "             3: 'swedish_chef',\n",
    "             4: 'none'}"
   ]
  },
  {
   "cell_type": "code",
   "execution_count": 2,
   "metadata": {},
   "outputs": [],
   "source": [
    "# this section hold useful helper functions and transformers for classifying kermit\n",
    "\n",
    "# method for image resizing and extracting vector of raw values\n",
    "def extract_value_vector(image, size=(128, 128)):\n",
    "    return cv2.resize(image, size).flatten()\n",
    "\n",
    "def extract_colour_histogram(image, bins=(32, 32, 32)):\n",
    "    # convert image to hsv space\n",
    "    hsv_image = cv2.cvtColor(image, cv2.COLOR_BGR2HSV)\n",
    "    \n",
    "    # extract color histogram from image and take all 3 channels into account\n",
    "    color_hist = cv2.calcHist([hsv_image], [0, 1, 2], None, bins, [0, 180, 0, 256, 0, 256])\n",
    "    \n",
    "    # normalize resulting histogram\n",
    "    cv2.normalize(color_hist, color_hist)\n",
    "    \n",
    "    # print resulting historgram\n",
    "    # plt.hist(image.ravel(),256,[0,256])\n",
    "    # cols = ('b', 'g', 'r')\n",
    "    # for i, col in enumerate(cols):\n",
    "    #     histr = cv2.calcHist([image],[i],None,[256],[0,256])\n",
    "    #     plt.plot(histr,color = col)\n",
    "    #     plt.xlim([0,256])\n",
    "    # plt.show()\n",
    "    \n",
    "    # return histogram as feature vector\n",
    "    return color_hist.flatten()\n",
    "    \n",
    "\n",
    "def load_kermit_image_dataset():\n",
    "    kermit_data = pd.DataFrame([], columns=['name', 'filename', 'kermit'])\n",
    "\n",
    "    with open(kermit_label_file) as file:\n",
    "        for i, line in enumerate(file):\n",
    "            if i == 0:\n",
    "                continue\n",
    "            splits = list(map(lambda line: line.strip(), line.split(\",\")))\n",
    "            name = splits[0] + '_' + splits[1]\n",
    "            labels = [int(splits[i]) for i in range(2, len(splits)) if int(splits[i]) != 4]\n",
    "        \n",
    "            filename = kermit_data_path + name + '_' + splits[2] + '.jpg'\n",
    "            kermit_data = kermit_data.append({'name': name,\n",
    "                                            'file_id': int(splits[0]),\n",
    "                                            'filename': filename,\n",
    "                                            'kermit': 1 if 0 in labels else 0}, ignore_index=True)\n",
    "    return kermit_data\n",
    "\n",
    "\n",
    "def train_test_validation_split(df):\n",
    "    video1_df = df[df['file_id'] == 1]\n",
    "    video2_df = df[df['file_id'] == 2]\n",
    "    video3_df = df[df['file_id'] == 3]\n",
    "    \n",
    "    train_v1_df, test_v1_df, val_v1_df = np.split(video1_df.sample(frac=1, random_state=42), [int(.6*len(video1_df)), int(.8*len(video1_df))])\n",
    "    train_v2_df, test_v2_df, val_v2_df = np.split(video2_df.sample(frac=1, random_state=42), [int(.6*len(video2_df)), int(.8*len(video2_df))]) \n",
    "    train_v3_df, test_v3_df, val_v3_df = np.split(video3_df.sample(frac=1, random_state=42), [int(.6*len(video3_df)), int(.8*len(video3_df))]) \n",
    "    \n",
    "    train_df = pd.concat([train_v1_df, train_v2_df, train_v3_df]).reset_index(drop=True)\n",
    "    test_df = pd.concat([test_v1_df, test_v2_df, test_v3_df]).reset_index(drop=True)\n",
    "    val_df = pd.concat([val_v1_df, val_v2_df, val_v3_df]).reset_index(drop=True)\n",
    "    \n",
    "    return train_df, test_df, val_df\n"
   ]
  },
  {
   "cell_type": "code",
   "execution_count": 6,
   "metadata": {},
   "outputs": [
    {
     "name": "stdout",
     "output_type": "stream",
     "text": [
      "Number of samples per character in ground truth:\n",
      "kermit_the_frog: 2663\n",
      "waldorf_and_statler: 301\n",
      "pig: 1548\n",
      "swedish_chef: 220\n",
      "none: 5712\n",
      "total_samples: 10444\n",
      "[INFO] Start extracting images for target class: 0\n",
      "[INFO] Start extracting randomly sampled images\n"
     ]
    }
   ],
   "source": [
    "# create kermit image dataset if not exists (this is checked by the function itself)\n",
    "create_kermit_image_dataset()\n",
    "\n",
    "# after dataset creation, load it into dataframe\n",
    "df_kermit = load_kermit_image_dataset()"
   ]
  },
  {
   "cell_type": "code",
   "execution_count": 5,
   "metadata": {},
   "outputs": [
    {
     "name": "stdout",
     "output_type": "stream",
     "text": [
      "[INFO] start preprocessing images (color histogram)\n"
     ]
    }
   ],
   "source": [
    "## Preprocessing and splitting data for Kermit\n",
    "df_kermit_cp = df_kermit.copy()\n",
    "\n",
    "# init data structures for feature vectors, image pixel values and labels\n",
    "hist_features = []\n",
    "images_raw_pixels = []\n",
    "\n",
    "print('[INFO] start preprocessing images (color histogram)')\n",
    "\n",
    "counter = 1\n",
    "# iterate over all provided images and extract features, labels and image pixels\n",
    "for idx, row in df_kermit_cp.iterrows():\n",
    "    img = cv2.imread(row['filename'])\n",
    "    \n",
    "    # extract color distribution of the image\n",
    "    img_color_hist = extract_colour_histogram(img)\n",
    "    \n",
    "    # extract raw pixels of the image\n",
    "    img_pixels = extract_value_vector(img)\n",
    "\n",
    "    hist_features.append(img_color_hist)\n",
    "    images_raw_pixels.append(img_pixels)\n",
    "    \n",
    "    # show process\n",
    "    if counter % 200 == 0:\n",
    "        print('[INFO] images preprocessed %d/%d' % (counter, len(df_kermit_cp)))\n",
    "    counter += 1\n",
    "    \n",
    "# add feature lists as new cols to dataframe\n",
    "df_pre = df_kermit_cp.assign(color_hist = hist_features)\n",
    "df_kermit_features = df_pre.assign(raw_pixels = images_raw_pixels)\n",
    "\n",
    "# split dataframe into train, test and validation set\n",
    "train, test, validation = train_test_validation_split(df_kermit_features)\n",
    "\n",
    "# extract specific columns used for classification\n",
    "x_train_raw = train['raw_pixels'].tolist()\n",
    "x_train_hist = train['color_hist'].tolist()\n",
    "y_train = train['kermit'].tolist()\n",
    "\n",
    "x_test_raw = test['raw_pixels'].tolist()\n",
    "x_test_hist = test['color_hist'].tolist()\n",
    "y_test = test['kermit'].tolist()\n",
    "\n",
    "x_validation_raw = validation['raw_pixels'].tolist()\n",
    "x_validation_hist = validation['color_hist'].tolist()\n",
    "y_validation = validation['kermit'].tolist()\n"
   ]
  },
  {
   "cell_type": "code",
   "execution_count": 8,
   "metadata": {},
   "outputs": [
    {
     "data": {
      "text/plain": [
       "KNeighborsClassifier(algorithm='auto', leaf_size=30, metric='minkowski',\n",
       "                     metric_params=None, n_jobs=None, n_neighbors=20, p=2,\n",
       "                     weights='uniform')"
      ]
     },
     "execution_count": 8,
     "metadata": {},
     "output_type": "execute_result"
    }
   ],
   "source": [
    "# train a KNN classifier on raw pixel data\n",
    "model_raw = KNeighborsClassifier(n_neighbors=20)\n",
    "model_raw.fit(x_train_raw, y_train)"
   ]
  },
  {
   "cell_type": "code",
   "execution_count": 11,
   "metadata": {},
   "outputs": [
    {
     "data": {
      "image/png": "[encoded data removed]",
      "text/plain": [
       "<Figure size 432x288 with 2 Axes>"
      ]
     },
     "metadata": {
      "needs_background": "light"
     },
     "output_type": "display_data"
    }
   ],
   "source": [
    "# print confusion matrix for KNN classifier trained on raw pixels\n",
    "plot_confusion_matrix(model_raw, x_test_raw, y_test, values_format='d')\n",
    "plt.show()"
   ]
  },
  {
   "cell_type": "code",
   "execution_count": 12,
   "metadata": {},
   "outputs": [
    {
     "data": {
      "image/png": "[encoded data removed]",
      "text/plain": [
       "<Figure size 432x288 with 1 Axes>"
      ]
     },
     "metadata": {
      "needs_background": "light"
     },
     "output_type": "display_data"
    }
   ],
   "source": [
    "# print roc curve for KNN classifier trained on raw pixels\n",
    "plot_roc_curve(model_raw, x_test_raw, y_test)\n",
    "plt.show()"
   ]
  },
  {
   "cell_type": "code",
   "execution_count": 13,
   "metadata": {},
   "outputs": [
    {
     "data": {
      "text/plain": [
       "KNeighborsClassifier(algorithm='auto', leaf_size=30, metric='minkowski',\n",
       "                     metric_params=None, n_jobs=None, n_neighbors=20, p=2,\n",
       "                     weights='uniform')"
      ]
     },
     "execution_count": 13,
     "metadata": {},
     "output_type": "execute_result"
    }
   ],
   "source": [
    "# train a KNN classifier on histogram features\n",
    "model_hist = KNeighborsClassifier(n_neighbors=20)\n",
    "model_hist.fit(x_train_hist, y_train)"
   ]
  },
  {
   "cell_type": "code",
   "execution_count": 14,
   "metadata": {},
   "outputs": [
    {
     "data": {
      "image/png": "[encoded data removed]",
      "text/plain": [
       "<Figure size 432x288 with 2 Axes>"
      ]
     },
     "metadata": {
      "needs_background": "light"
     },
     "output_type": "display_data"
    }
   ],
   "source": [
    "plot_confusion_matrix(model_hist, x_test_hist, y_test, values_format='d')\n",
    "plt.show()"
   ]
  },
  {
   "cell_type": "code",
   "execution_count": 15,
   "metadata": {},
   "outputs": [
    {
     "data": {
      "image/png": "[encoded data removed]",
      "text/plain": [
       "<Figure size 432x288 with 1 Axes>"
      ]
     },
     "metadata": {
      "needs_background": "light"
     },
     "output_type": "display_data"
    }
   ],
   "source": [
    "plot_roc_curve(model_hist, x_test_hist, y_test)\n",
    "plt.show()"
   ]
  },
  {
   "cell_type": "code",
   "execution_count": 4,
   "metadata": {},
   "outputs": [
    {
     "name": "stdout",
     "output_type": "stream",
     "text": [
      "Read MFCC features for random sampling...\n",
      "Number of samples for target class 1: 4708\n",
      "Create data distribution map...\n",
      "Successfully extracted MFCC feature dataset for character: 1\n"
     ]
    },
    {
     "data": {
      "text/html": [
       "<div>\n",
       "<style scoped>\n",
       "    .dataframe tbody tr th:only-of-type {\n",
       "        vertical-align: middle;\n",
       "    }\n",
       "\n",
       "    .dataframe tbody tr th {\n",
       "        vertical-align: top;\n",
       "    }\n",
       "\n",
       "    .dataframe thead th {\n",
       "        text-align: right;\n",
       "    }\n",
       "</style>\n",
       "<table border=\"1\" class=\"dataframe\">\n",
       "  <thead>\n",
       "    <tr style=\"text-align: right;\">\n",
       "      <th></th>\n",
       "      <th>label</th>\n",
       "      <th>file_id</th>\n",
       "      <th>mfcc</th>\n",
       "    </tr>\n",
       "  </thead>\n",
       "  <tbody>\n",
       "    <tr>\n",
       "      <th>0</th>\n",
       "      <td>1</td>\n",
       "      <td>1</td>\n",
       "      <td>[-406.5613, 96.57631, -17.271774, 16.459164, -...</td>\n",
       "    </tr>\n",
       "    <tr>\n",
       "      <th>1</th>\n",
       "      <td>1</td>\n",
       "      <td>1</td>\n",
       "      <td>[-327.3551, 102.36713, -44.54685, 20.740408, 3...</td>\n",
       "    </tr>\n",
       "    <tr>\n",
       "      <th>2</th>\n",
       "      <td>1</td>\n",
       "      <td>1</td>\n",
       "      <td>[-253.4301, 61.076485, -28.974407, 28.112978, ...</td>\n",
       "    </tr>\n",
       "    <tr>\n",
       "      <th>3</th>\n",
       "      <td>1</td>\n",
       "      <td>1</td>\n",
       "      <td>[-251.76186, 60.370193, -39.249714, 23.03296, ...</td>\n",
       "    </tr>\n",
       "    <tr>\n",
       "      <th>4</th>\n",
       "      <td>1</td>\n",
       "      <td>1</td>\n",
       "      <td>[-301.14755, 74.70889, -49.334267, 3.0929208, ...</td>\n",
       "    </tr>\n",
       "    <tr>\n",
       "      <th>...</th>\n",
       "      <td>...</td>\n",
       "      <td>...</td>\n",
       "      <td>...</td>\n",
       "    </tr>\n",
       "    <tr>\n",
       "      <th>9416</th>\n",
       "      <td>0</td>\n",
       "      <td>3</td>\n",
       "      <td>[-329.21085, 124.41517, -38.85173, -1.8458521,...</td>\n",
       "    </tr>\n",
       "    <tr>\n",
       "      <th>9417</th>\n",
       "      <td>0</td>\n",
       "      <td>3</td>\n",
       "      <td>[-302.96796, 92.388824, -34.47322, 30.867462, ...</td>\n",
       "    </tr>\n",
       "    <tr>\n",
       "      <th>9418</th>\n",
       "      <td>0</td>\n",
       "      <td>3</td>\n",
       "      <td>[-449.02945, 145.1105, -74.790375, -33.093437,...</td>\n",
       "    </tr>\n",
       "    <tr>\n",
       "      <th>9419</th>\n",
       "      <td>0</td>\n",
       "      <td>3</td>\n",
       "      <td>[-242.7119, 46.115643, -41.751595, 38.368366, ...</td>\n",
       "    </tr>\n",
       "    <tr>\n",
       "      <th>9420</th>\n",
       "      <td>0</td>\n",
       "      <td>3</td>\n",
       "      <td>[-423.39072, 67.14235, -39.195686, -24.005623,...</td>\n",
       "    </tr>\n",
       "  </tbody>\n",
       "</table>\n",
       "<p>9421 rows × 3 columns</p>\n",
       "</div>"
      ],
      "text/plain": [
       "      label  file_id                                               mfcc\n",
       "0         1        1  [-406.5613, 96.57631, -17.271774, 16.459164, -...\n",
       "1         1        1  [-327.3551, 102.36713, -44.54685, 20.740408, 3...\n",
       "2         1        1  [-253.4301, 61.076485, -28.974407, 28.112978, ...\n",
       "3         1        1  [-251.76186, 60.370193, -39.249714, 23.03296, ...\n",
       "4         1        1  [-301.14755, 74.70889, -49.334267, 3.0929208, ...\n",
       "...     ...      ...                                                ...\n",
       "9416      0        3  [-329.21085, 124.41517, -38.85173, -1.8458521,...\n",
       "9417      0        3  [-302.96796, 92.388824, -34.47322, 30.867462, ...\n",
       "9418      0        3  [-449.02945, 145.1105, -74.790375, -33.093437,...\n",
       "9419      0        3  [-242.7119, 46.115643, -41.751595, 38.368366, ...\n",
       "9420      0        3  [-423.39072, 67.14235, -39.195686, -24.005623,...\n",
       "\n",
       "[9421 rows x 3 columns]"
      ]
     },
     "execution_count": 4,
     "metadata": {},
     "output_type": "execute_result"
    }
   ],
   "source": [
    "## Identifying Waldorf/Statler\n",
    "# loading the already preprocessed MFCC feature dataset into dataframe\n",
    "frame_length_ms = 40\n",
    "n_mfcc_coeffs = 20\n",
    "ws_raw_data = get_waldorf_statler_mfcc_features(frame_length_ms, n_mfcc_coeffs)\n",
    "df_ws =  pd.DataFrame(ws_raw_data, columns=['label', 'file_id', 'mfcc'])\n",
    "df_ws"
   ]
  },
  {
   "cell_type": "code",
   "execution_count": 17,
   "metadata": {},
   "outputs": [],
   "source": [
    "# split dataframe into train, test and validation set\n",
    "train, test, validation = train_test_validation_split(df_ws)\n",
    "\n",
    "# extract specific columns used for classification\n",
    "x_train_mfcc = train['mfcc'].tolist()\n",
    "y_train_mfcc = train['label'].tolist()\n",
    "\n",
    "x_test_mfcc = test['mfcc'].tolist()\n",
    "y_test_mfcc = test['label'].tolist()\n",
    "\n",
    "x_validation_mfcc = validation['mfcc'].tolist()\n",
    "y_validation_mfcc = validation['label'].tolist()"
   ]
  },
  {
   "cell_type": "code",
   "execution_count": 18,
   "metadata": {},
   "outputs": [
    {
     "data": {
      "text/plain": [
       "RandomForestClassifier(bootstrap=True, ccp_alpha=0.0, class_weight=None,\n",
       "                       criterion='gini', max_depth=None, max_features='auto',\n",
       "                       max_leaf_nodes=None, max_samples=None,\n",
       "                       min_impurity_decrease=0.0, min_impurity_split=None,\n",
       "                       min_samples_leaf=1, min_samples_split=2,\n",
       "                       min_weight_fraction_leaf=0.0, n_estimators=150,\n",
       "                       n_jobs=None, oob_score=False, random_state=None,\n",
       "                       verbose=0, warm_start=False)"
      ]
     },
     "execution_count": 18,
     "metadata": {},
     "output_type": "execute_result"
    }
   ],
   "source": [
    "# train a random forest classifier on mfcc features\n",
    "ws_rf_cls = RandomForestClassifier(n_estimators=150)\n",
    "ws_rf_cls.fit(x_train_mfcc, y_train_mfcc)"
   ]
  },
  {
   "cell_type": "code",
   "execution_count": 19,
   "metadata": {},
   "outputs": [
    {
     "data": {
      "image/png": "[encoded data removed]",
      "text/plain": [
       "<Figure size 432x288 with 2 Axes>"
      ]
     },
     "metadata": {
      "needs_background": "light"
     },
     "output_type": "display_data"
    }
   ],
   "source": [
    "plot_confusion_matrix(ws_rf_cls, x_test_mfcc, y_test_mfcc, values_format='d')\n",
    "plt.show()"
   ]
  },
  {
   "cell_type": "code",
   "execution_count": 21,
   "metadata": {},
   "outputs": [
    {
     "data": {
      "image/png": "[encoded data removed]",
      "text/plain": [
       "<Figure size 432x288 with 2 Axes>"
      ]
     },
     "metadata": {
      "needs_background": "light"
     },
     "output_type": "display_data"
    }
   ],
   "source": [
    "plot_confusion_matrix(ws_rf_cls, x_validation_mfcc, y_validation_mfcc, values_format='d')\n",
    "plt.show()"
   ]
  },
  {
   "cell_type": "code",
   "execution_count": 20,
   "metadata": {},
   "outputs": [
    {
     "data": {
      "image/png": "[encoded data removed]",
      "text/plain": [
       "<Figure size 432x288 with 1 Axes>"
      ]
     },
     "metadata": {
      "needs_background": "light"
     },
     "output_type": "display_data"
    }
   ],
   "source": [
    "plot_roc_curve(ws_rf_cls, x_test_mfcc, y_test_mfcc)\n",
    "plt.show()"
   ]
  },
  {
   "cell_type": "code",
   "execution_count": 24,
   "metadata": {},
   "outputs": [
    {
     "data": {
      "image/png": "[encoded data removed]",
      "text/plain": [
       "<Figure size 432x288 with 1 Axes>"
      ]
     },
     "metadata": {
      "needs_background": "light"
     },
     "output_type": "display_data"
    }
   ],
   "source": [
    "plot_roc_curve(ws_rf_cls, x_validation_mfcc, y_validation_mfcc)\n",
    "plt.show()"
   ]
  }
 ],
 "metadata": {
  "kernelspec": {
   "display_name": "Python 3",
   "language": "python",
   "name": "python3"
  },
  "language_info": {
   "codemirror_mode": {
    "name": "ipython",
    "version": 3
   },
   "file_extension": ".py",
   "mimetype": "text/x-python",
   "name": "python",
   "nbconvert_exporter": "python",
   "pygments_lexer": "ipython3",
   "version": "3.7.4"
  },
  "pycharm": {
   "stem_cell": {
    "cell_type": "raw",
    "metadata": {
     "collapsed": false
    },
    "source": []
   }
  }
 },
 "nbformat": 4,
 "nbformat_minor": 2
}
