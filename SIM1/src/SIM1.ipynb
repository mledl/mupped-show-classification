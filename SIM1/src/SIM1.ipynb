{
 "cells": [
  {
   "cell_type": "code",
   "execution_count": 2,
   "metadata": {},
   "outputs": [],
   "source": [
    "# imports\n",
    "import keras \n",
    "import cv2 # opencv\n",
    "import glob\n",
    "import os\n",
    "from pathlib import Path\n",
    "import matplotlib.pyplot as plt\n",
    "from skimage import color, feature\n",
    "import skimage.data\n",
    "import pandas as pd\n",
    "import numpy as np\n",
    "from moviepy.editor import *\n",
    "from sklearn.model_selection import train_test_split\n",
    "from sklearn.neighbors import KNeighborsClassifier\n",
    "from sklearn.metrics import classification_report, plot_confusion_matrix, plot_roc_curve\n",
    "\n",
    "# definitons of constants/variables\n",
    "video_file_glob_path = '../../videos/*.avi'\n",
    "image_base_path = '../../images/'\n",
    "audio_base_path = '../../audio/'\n",
    "video_path = '../../ground_truth/Muppets-02-01-01/'\n",
    "label_file = '../../ground_truth/Muppets-02-01-01/Muppets-02-01-01.txt'\n",
    "evaluation_base_path = '../../evaluation/'"
   ]
  },
  {
   "cell_type": "code",
   "execution_count": 9,
   "metadata": {},
   "outputs": [],
   "source": [
    "# capture the videos and extract frames\n",
    "for video_path in glob.glob(video_file_glob_path):\n",
    "    cap = cv2.VideoCapture(video_path)\n",
    "    frame_rate = cap.get(cv2.CAP_PROP_FPS)\n",
    "    image_folder_path = image_base_path + os.path.basename(video_path).split('.')[0]\n",
    "    Path(image_folder_path).mkdir(parents=True, exist_ok=True)\n",
    "    \n",
    "    while(cap.isOpened()):\n",
    "        frame_id = cap.get(cv2.CAP_PROP_POS_FRAMES)\n",
    "        ret, frame = cap.read()\n",
    "        # frame = cv2.cvtColor(frame, cv2.COLOR_RGB2BGR)\n",
    "\n",
    "        if not ret:\n",
    "            print('Failed to read frame %d of video %r.', frame_id, video_path)\n",
    "            break\n",
    "            \n",
    "        filename = image_folder_path + '/frame%d.jpg' % frame_id\n",
    "        cv2.imwrite(filename, frame)\n",
    "        \n",
    "        if frame_id == 300:\n",
    "            break"
   ]
  },
  {
   "cell_type": "code",
   "execution_count": 12,
   "metadata": {},
   "outputs": [
    {
     "name": "stderr",
     "output_type": "stream",
     "text": [
      "chunk:   0%|                                                               | 3/34118 [00:00<21:58, 25.87it/s, now=None]"
     ]
    },
    {
     "name": "stdout",
     "output_type": "stream",
     "text": [
      "MoviePy - Writing audio in ../../audio/Muppets-02-01-01.wav\n"
     ]
    },
    {
     "ename": "OSError",
     "evalue": "[Errno 32] Broken pipe\n\nMoviePy error: FFMPEG encountered the following error while writing file ../../audio/Muppets-02-01-01.wav:\n\nb'../../audio/Muppets-02-01-01.wav: Permission denied\\r\\n'\n\nIn case it helps, make sure you are using a recent version of FFMPEG (the versions in the Ubuntu/Debian repos are deprecated).",
     "output_type": "error",
     "traceback": [
      "\u001b[1;31m---------------------------------------------------------------------------\u001b[0m",
      "\u001b[1;31mBrokenPipeError\u001b[0m                           Traceback (most recent call last)",
      "\u001b[1;32mc:\\users\\marti\\appdata\\local\\programs\\python\\python37\\lib\\site-packages\\moviepy\\audio\\io\\ffmpeg_audiowriter.py\u001b[0m in \u001b[0;36mwrite_frames\u001b[1;34m(self, frames_array)\u001b[0m\n\u001b[0;32m     73\u001b[0m             \u001b[1;32mtry\u001b[0m\u001b[1;33m:\u001b[0m\u001b[1;33m\u001b[0m\u001b[1;33m\u001b[0m\u001b[0m\n\u001b[1;32m---> 74\u001b[1;33m                 \u001b[0mself\u001b[0m\u001b[1;33m.\u001b[0m\u001b[0mproc\u001b[0m\u001b[1;33m.\u001b[0m\u001b[0mstdin\u001b[0m\u001b[1;33m.\u001b[0m\u001b[0mwrite\u001b[0m\u001b[1;33m(\u001b[0m\u001b[0mframes_array\u001b[0m\u001b[1;33m.\u001b[0m\u001b[0mtobytes\u001b[0m\u001b[1;33m(\u001b[0m\u001b[1;33m)\u001b[0m\u001b[1;33m)\u001b[0m\u001b[1;33m\u001b[0m\u001b[1;33m\u001b[0m\u001b[0m\n\u001b[0m\u001b[0;32m     75\u001b[0m             \u001b[1;32mexcept\u001b[0m \u001b[0mNameError\u001b[0m\u001b[1;33m:\u001b[0m\u001b[1;33m\u001b[0m\u001b[1;33m\u001b[0m\u001b[0m\n",
      "\u001b[1;31mBrokenPipeError\u001b[0m: [Errno 32] Broken pipe",
      "\nDuring handling of the above exception, another exception occurred:\n",
      "\u001b[1;31mOSError\u001b[0m                                   Traceback (most recent call last)",
      "\u001b[1;32m<ipython-input-12-5ec231c8fdb6>\u001b[0m in \u001b[0;36m<module>\u001b[1;34m\u001b[0m\n\u001b[0;32m      5\u001b[0m     \u001b[0mfilename\u001b[0m \u001b[1;33m=\u001b[0m \u001b[0maudio_base_path\u001b[0m \u001b[1;33m+\u001b[0m \u001b[0mos\u001b[0m\u001b[1;33m.\u001b[0m\u001b[0mpath\u001b[0m\u001b[1;33m.\u001b[0m\u001b[0mbasename\u001b[0m\u001b[1;33m(\u001b[0m\u001b[0mos\u001b[0m\u001b[1;33m.\u001b[0m\u001b[0mpath\u001b[0m\u001b[1;33m.\u001b[0m\u001b[0mnormpath\u001b[0m\u001b[1;33m(\u001b[0m\u001b[0mvideo_path\u001b[0m\u001b[1;33m)\u001b[0m\u001b[1;33m)\u001b[0m\u001b[1;33m.\u001b[0m\u001b[0msplit\u001b[0m\u001b[1;33m(\u001b[0m\u001b[1;34m'.'\u001b[0m\u001b[1;33m)\u001b[0m\u001b[1;33m[\u001b[0m\u001b[1;36m0\u001b[0m\u001b[1;33m]\u001b[0m \u001b[1;33m+\u001b[0m \u001b[1;34m'.wav'\u001b[0m\u001b[1;33m\u001b[0m\u001b[1;33m\u001b[0m\u001b[0m\n\u001b[0;32m      6\u001b[0m     \u001b[1;32mif\u001b[0m \u001b[1;32mnot\u001b[0m \u001b[0mos\u001b[0m\u001b[1;33m.\u001b[0m\u001b[0mpath\u001b[0m\u001b[1;33m.\u001b[0m\u001b[0misfile\u001b[0m\u001b[1;33m(\u001b[0m\u001b[0mfilename\u001b[0m\u001b[1;33m)\u001b[0m\u001b[1;33m:\u001b[0m\u001b[1;33m\u001b[0m\u001b[1;33m\u001b[0m\u001b[0m\n\u001b[1;32m----> 7\u001b[1;33m         \u001b[0mvideo\u001b[0m\u001b[1;33m.\u001b[0m\u001b[0maudio\u001b[0m\u001b[1;33m.\u001b[0m\u001b[0mwrite_audiofile\u001b[0m\u001b[1;33m(\u001b[0m\u001b[0mfilename\u001b[0m\u001b[1;33m)\u001b[0m\u001b[1;33m\u001b[0m\u001b[1;33m\u001b[0m\u001b[0m\n\u001b[0m\u001b[0;32m      8\u001b[0m     \u001b[0mvideo\u001b[0m\u001b[1;33m.\u001b[0m\u001b[0mclose\u001b[0m\u001b[1;33m(\u001b[0m\u001b[1;33m)\u001b[0m\u001b[1;33m\u001b[0m\u001b[1;33m\u001b[0m\u001b[0m\n",
      "\u001b[1;32m<c:\\users\\marti\\appdata\\local\\programs\\python\\python37\\lib\\site-packages\\decorator.py:decorator-gen-171>\u001b[0m in \u001b[0;36mwrite_audiofile\u001b[1;34m(self, filename, fps, nbytes, buffersize, codec, bitrate, ffmpeg_params, write_logfile, verbose, logger)\u001b[0m\n",
      "\u001b[1;32mc:\\users\\marti\\appdata\\local\\programs\\python\\python37\\lib\\site-packages\\moviepy\\decorators.py\u001b[0m in \u001b[0;36mrequires_duration\u001b[1;34m(f, clip, *a, **k)\u001b[0m\n\u001b[0;32m     52\u001b[0m         \u001b[1;32mraise\u001b[0m \u001b[0mValueError\u001b[0m\u001b[1;33m(\u001b[0m\u001b[1;34m\"Attribute 'duration' not set\"\u001b[0m\u001b[1;33m)\u001b[0m\u001b[1;33m\u001b[0m\u001b[1;33m\u001b[0m\u001b[0m\n\u001b[0;32m     53\u001b[0m     \u001b[1;32melse\u001b[0m\u001b[1;33m:\u001b[0m\u001b[1;33m\u001b[0m\u001b[1;33m\u001b[0m\u001b[0m\n\u001b[1;32m---> 54\u001b[1;33m         \u001b[1;32mreturn\u001b[0m \u001b[0mf\u001b[0m\u001b[1;33m(\u001b[0m\u001b[0mclip\u001b[0m\u001b[1;33m,\u001b[0m \u001b[1;33m*\u001b[0m\u001b[0ma\u001b[0m\u001b[1;33m,\u001b[0m \u001b[1;33m**\u001b[0m\u001b[0mk\u001b[0m\u001b[1;33m)\u001b[0m\u001b[1;33m\u001b[0m\u001b[1;33m\u001b[0m\u001b[0m\n\u001b[0m\u001b[0;32m     55\u001b[0m \u001b[1;33m\u001b[0m\u001b[0m\n\u001b[0;32m     56\u001b[0m \u001b[1;33m\u001b[0m\u001b[0m\n",
      "\u001b[1;32mc:\\users\\marti\\appdata\\local\\programs\\python\\python37\\lib\\site-packages\\moviepy\\audio\\AudioClip.py\u001b[0m in \u001b[0;36mwrite_audiofile\u001b[1;34m(self, filename, fps, nbytes, buffersize, codec, bitrate, ffmpeg_params, write_logfile, verbose, logger)\u001b[0m\n\u001b[0;32m    208\u001b[0m                                  \u001b[0mwrite_logfile\u001b[0m\u001b[1;33m=\u001b[0m\u001b[0mwrite_logfile\u001b[0m\u001b[1;33m,\u001b[0m \u001b[0mverbose\u001b[0m\u001b[1;33m=\u001b[0m\u001b[0mverbose\u001b[0m\u001b[1;33m,\u001b[0m\u001b[1;33m\u001b[0m\u001b[1;33m\u001b[0m\u001b[0m\n\u001b[0;32m    209\u001b[0m                                  \u001b[0mffmpeg_params\u001b[0m\u001b[1;33m=\u001b[0m\u001b[0mffmpeg_params\u001b[0m\u001b[1;33m,\u001b[0m\u001b[1;33m\u001b[0m\u001b[1;33m\u001b[0m\u001b[0m\n\u001b[1;32m--> 210\u001b[1;33m                                  logger=logger)\n\u001b[0m\u001b[0;32m    211\u001b[0m \u001b[1;33m\u001b[0m\u001b[0m\n\u001b[0;32m    212\u001b[0m \u001b[1;33m\u001b[0m\u001b[0m\n",
      "\u001b[1;32m<c:\\users\\marti\\appdata\\local\\programs\\python\\python37\\lib\\site-packages\\decorator.py:decorator-gen-135>\u001b[0m in \u001b[0;36mffmpeg_audiowrite\u001b[1;34m(clip, filename, fps, nbytes, buffersize, codec, bitrate, write_logfile, verbose, ffmpeg_params, logger)\u001b[0m\n",
      "\u001b[1;32mc:\\users\\marti\\appdata\\local\\programs\\python\\python37\\lib\\site-packages\\moviepy\\decorators.py\u001b[0m in \u001b[0;36mrequires_duration\u001b[1;34m(f, clip, *a, **k)\u001b[0m\n\u001b[0;32m     52\u001b[0m         \u001b[1;32mraise\u001b[0m \u001b[0mValueError\u001b[0m\u001b[1;33m(\u001b[0m\u001b[1;34m\"Attribute 'duration' not set\"\u001b[0m\u001b[1;33m)\u001b[0m\u001b[1;33m\u001b[0m\u001b[1;33m\u001b[0m\u001b[0m\n\u001b[0;32m     53\u001b[0m     \u001b[1;32melse\u001b[0m\u001b[1;33m:\u001b[0m\u001b[1;33m\u001b[0m\u001b[1;33m\u001b[0m\u001b[0m\n\u001b[1;32m---> 54\u001b[1;33m         \u001b[1;32mreturn\u001b[0m \u001b[0mf\u001b[0m\u001b[1;33m(\u001b[0m\u001b[0mclip\u001b[0m\u001b[1;33m,\u001b[0m \u001b[1;33m*\u001b[0m\u001b[0ma\u001b[0m\u001b[1;33m,\u001b[0m \u001b[1;33m**\u001b[0m\u001b[0mk\u001b[0m\u001b[1;33m)\u001b[0m\u001b[1;33m\u001b[0m\u001b[1;33m\u001b[0m\u001b[0m\n\u001b[0m\u001b[0;32m     55\u001b[0m \u001b[1;33m\u001b[0m\u001b[0m\n\u001b[0;32m     56\u001b[0m \u001b[1;33m\u001b[0m\u001b[0m\n",
      "\u001b[1;32mc:\\users\\marti\\appdata\\local\\programs\\python\\python37\\lib\\site-packages\\moviepy\\audio\\io\\ffmpeg_audiowriter.py\u001b[0m in \u001b[0;36mffmpeg_audiowrite\u001b[1;34m(clip, filename, fps, nbytes, buffersize, codec, bitrate, write_logfile, verbose, ffmpeg_params, logger)\u001b[0m\n\u001b[0;32m    168\u001b[0m                                   \u001b[0mnbytes\u001b[0m\u001b[1;33m=\u001b[0m\u001b[0mnbytes\u001b[0m\u001b[1;33m,\u001b[0m \u001b[0mfps\u001b[0m\u001b[1;33m=\u001b[0m\u001b[0mfps\u001b[0m\u001b[1;33m,\u001b[0m\u001b[1;33m\u001b[0m\u001b[1;33m\u001b[0m\u001b[0m\n\u001b[0;32m    169\u001b[0m                                   logger=logger):\n\u001b[1;32m--> 170\u001b[1;33m         \u001b[0mwriter\u001b[0m\u001b[1;33m.\u001b[0m\u001b[0mwrite_frames\u001b[0m\u001b[1;33m(\u001b[0m\u001b[0mchunk\u001b[0m\u001b[1;33m)\u001b[0m\u001b[1;33m\u001b[0m\u001b[1;33m\u001b[0m\u001b[0m\n\u001b[0m\u001b[0;32m    171\u001b[0m \u001b[1;33m\u001b[0m\u001b[0m\n\u001b[0;32m    172\u001b[0m     \u001b[0mwriter\u001b[0m\u001b[1;33m.\u001b[0m\u001b[0mclose\u001b[0m\u001b[1;33m(\u001b[0m\u001b[1;33m)\u001b[0m\u001b[1;33m\u001b[0m\u001b[1;33m\u001b[0m\u001b[0m\n",
      "\u001b[1;32mc:\\users\\marti\\appdata\\local\\programs\\python\\python37\\lib\\site-packages\\moviepy\\audio\\io\\ffmpeg_audiowriter.py\u001b[0m in \u001b[0;36mwrite_frames\u001b[1;34m(self, frames_array)\u001b[0m\n\u001b[0;32m    115\u001b[0m                           \"Ubuntu/Debian repos are deprecated).\"))\n\u001b[0;32m    116\u001b[0m \u001b[1;33m\u001b[0m\u001b[0m\n\u001b[1;32m--> 117\u001b[1;33m             \u001b[1;32mraise\u001b[0m \u001b[0mIOError\u001b[0m\u001b[1;33m(\u001b[0m\u001b[0merror\u001b[0m\u001b[1;33m)\u001b[0m\u001b[1;33m\u001b[0m\u001b[1;33m\u001b[0m\u001b[0m\n\u001b[0m\u001b[0;32m    118\u001b[0m \u001b[1;33m\u001b[0m\u001b[0m\n\u001b[0;32m    119\u001b[0m     \u001b[1;32mdef\u001b[0m \u001b[0mclose\u001b[0m\u001b[1;33m(\u001b[0m\u001b[0mself\u001b[0m\u001b[1;33m)\u001b[0m\u001b[1;33m:\u001b[0m\u001b[1;33m\u001b[0m\u001b[1;33m\u001b[0m\u001b[0m\n",
      "\u001b[1;31mOSError\u001b[0m: [Errno 32] Broken pipe\n\nMoviePy error: FFMPEG encountered the following error while writing file ../../audio/Muppets-02-01-01.wav:\n\nb'../../audio/Muppets-02-01-01.wav: Permission denied\\r\\n'\n\nIn case it helps, make sure you are using a recent version of FFMPEG (the versions in the Ubuntu/Debian repos are deprecated)."
     ]
    }
   ],
   "source": [
    "# extract audio from avi video\n",
    "Path(audio_base_path).mkdir(parents=True, exist_ok=True)\n",
    "for video_path in glob.glob(video_file_glob_path):\n",
    "    video = VideoFileClip(video_path)\n",
    "    filename = audio_base_path + os.path.basename(os.path.normpath(video_path)).split('.')[0] + '.wav'\n",
    "    if not os.path.isfile(filename):\n",
    "        video.audio.write_audiofile(filename)\n",
    "    video.close()"
   ]
  },
  {
   "cell_type": "code",
   "execution_count": 10,
   "metadata": {},
   "outputs": [],
   "source": [
    "# this section hold useful helper functions and transformers\n",
    "\n",
    "# method for image resizing and extracting vector of raw values\n",
    "def extract_value_vector(image, size=(128, 128)):\n",
    "    return cv2.resize(image, size).flatten()\n",
    "\n",
    "def extract_colour_histogram(image, bins=(32, 32, 32)):\n",
    "    # convert image to hsv space\n",
    "    hsv_image = cv2.cvtColor(image, cv2.COLOR_BGR2HSV)\n",
    "    \n",
    "    # extract color histogram from image and take all 3 channels into account\n",
    "    color_hist = cv2.calcHist([hsv_image], [0, 1, 2], None, bins, [0, 180, 0, 256, 0, 256])\n",
    "    \n",
    "    # normalize resulting histogram\n",
    "    cv2.normalize(color_hist, color_hist)\n",
    "    \n",
    "    # print resulting historgram\n",
    "    # plt.hist(image.ravel(),256,[0,256])\n",
    "    # cols = ('b', 'g', 'r')\n",
    "    # for i, col in enumerate(cols):\n",
    "    #     histr = cv2.calcHist([image],[i],None,[256],[0,256])\n",
    "    #     plt.plot(histr,color = col)\n",
    "    #     plt.xlim([0,256])\n",
    "    # plt.show()\n",
    "    \n",
    "    # return histogram as feature vector\n",
    "    return color_hist.flatten()\n",
    "\n",
    "def print_data_distribution(df):\n",
    "    kermits = sum(df['kermit'])\n",
    "    waldorf_statlers = sum(df['waldorf_and_statler'])\n",
    "    pigs = sum(df['pig'])\n",
    "    swedish_chefs = sum(df['swedish_chef'])\n",
    "    nones = len(df) - (kermits + waldorf_statlers + pigs + swedish_chefs)\n",
    "    \n",
    "    print('Dataset statistics:')\n",
    "    print('Kermit:\\t\\t\\t' + str(kermits))\n",
    "    print('Waldorf/Statler:\\t' + str(waldorf_statlers))\n",
    "    print('Pigs:\\t\\t\\t' + str(pigs))\n",
    "    print('Swedish Chef:\\t\\t' + str(swedish_chefs))\n",
    "    print('None:\\t\\t\\t' + str(nones))\n",
    "    print('Total:\\t\\t\\t' + str(len(df)))\n",
    "\n",
    "def print_measures(model, x_test, y_test, y_pred):\n",
    "    print('[INFO] Classification Report:')\n",
    "    print(classification_report(y_test, y_pred, zero_division=0, labels=[0, 1]))\n",
    "    print('[INFO] Confusion Matrix:')\n",
    "    plot_confusion_matrix(model, x_test, y_test, values_format='d')\n",
    "    plt.show()\n",
    "    plot_roc_curve(model, x_test, y_test)\n",
    "    plt.show()\n"
   ]
  },
  {
   "cell_type": "code",
   "execution_count": 7,
   "metadata": {},
   "outputs": [
    {
     "name": "stdout",
     "output_type": "stream",
     "text": [
      "Dataset statistics:\n",
      "Kermit:\t\t\t432\n",
      "Waldorf/Statler:\t150\n",
      "Pigs:\t\t\t119\n",
      "Swedish Chef:\t\t140\n",
      "None:\t\t\t2383\n",
      "Total:\t\t\t3224\n"
     ]
    }
   ],
   "source": [
    "label_map = {0: 'kermit_the_frog',\n",
    "                 1: 'waldorf_and_statler',\n",
    "                 2: 'pig',\n",
    "                 3: 'swedish_chef',\n",
    "                 4: 'none'}\n",
    "\n",
    "data = pd.DataFrame([], columns=['name', 'filename', 'kermit', 'waldorf_and_statler', 'pig', 'swedish_chef'])\n",
    "\n",
    "with open(label_file) as file:\n",
    "    lines = file.readlines()\n",
    "    \n",
    "for line in lines:\n",
    "    splits = list(map(lambda line: line.strip(), line.split(\",\")))\n",
    "    name = splits[0]\n",
    "    labels = [int(splits[i]) for i in range(1, len(splits)) if int(splits[i]) != 4]\n",
    "        \n",
    "    filename = glob.glob(video_path + name + \"_*\")[0]\n",
    "    data = data.append({'name': name,\n",
    "                        'filename': filename,\n",
    "                        'kermit': 1 if 0 in labels else 0,\n",
    "                        'waldorf_and_statler': 1 if 1 in labels else 0,\n",
    "                        'pig': 1 if 2 in labels else 0,\n",
    "                        'swedish_chef': 1 if 3 in labels else 0}, ignore_index=True)\n",
    "\n",
    "#data.to_csv(\"data.csv\")\n",
    "print_data_distribution(data)\n",
    "    "
   ]
  },
  {
   "cell_type": "code",
   "execution_count": 8,
   "metadata": {},
   "outputs": [
    {
     "name": "stdout",
     "output_type": "stream",
     "text": [
      "[INFO] start preprocessing images (color histogram)\n",
      "[INFO] images preprocessed 200/3224\n",
      "[INFO] images preprocessed 400/3224\n",
      "[INFO] images preprocessed 600/3224\n",
      "[INFO] images preprocessed 800/3224\n",
      "[INFO] images preprocessed 1000/3224\n",
      "[INFO] images preprocessed 1200/3224\n",
      "[INFO] images preprocessed 1400/3224\n",
      "[INFO] images preprocessed 1600/3224\n",
      "[INFO] images preprocessed 1800/3224\n",
      "[INFO] images preprocessed 2000/3224\n",
      "[INFO] images preprocessed 2200/3224\n",
      "[INFO] images preprocessed 2400/3224\n",
      "[INFO] images preprocessed 2600/3224\n",
      "[INFO] images preprocessed 2800/3224\n",
      "[INFO] images preprocessed 3000/3224\n",
      "[INFO] images preprocessed 3200/3224\n"
     ]
    }
   ],
   "source": [
    "## Preprocessing and splitting data for Kermit\n",
    "df1 = data.copy()\n",
    "\n",
    "# init data structures for feature vectors, image pixel values and labels\n",
    "hist_features = []\n",
    "images_raw_pixels = []\n",
    "labels = df1['kermit'].tolist()\n",
    "indices = df1['name'].tolist()\n",
    "\n",
    "print('[INFO] start preprocessing images (color histogram)')\n",
    "\n",
    "counter = 1\n",
    "# iterate over all provided images and extract features, labels and image pixels\n",
    "for idx, row in df1.iterrows():\n",
    "    img = cv2.imread(row['filename'])\n",
    "    \n",
    "    # extract color distribution of the image\n",
    "    img_color_hist = extract_colour_histogram(img)\n",
    "    \n",
    "    # extract raw pixels of the image\n",
    "    img_pixels = extract_value_vector(img)\n",
    "\n",
    "    hist_features.append(img_color_hist)\n",
    "    images_raw_pixels.append(img_pixels)\n",
    "    \n",
    "    # show process\n",
    "    if counter % 200 == 0:\n",
    "        print('[INFO] images preprocessed %d/%d' % (counter, len(df1)))\n",
    "    counter += 1\n",
    "\n",
    "# split data into training and test sets for raw pixel data\n",
    "x_train_raw, x_test_raw, y_train_raw, y_test_raw, x_idx_raw, y_idx_raw = train_test_split(images_raw_pixels, labels, indices, test_size=0.3)\n",
    "\n",
    "# split data into training and test sets for histogram features\n",
    "x_train_hist, x_test_hist, y_train_hist, y_test_hist, x_idx_hist, y_idx_hist = train_test_split(hist_features, labels, indices, test_size=0.3)"
   ]
  },
  {
   "cell_type": "code",
   "execution_count": 11,
   "metadata": {},
   "outputs": [
    {
     "name": "stdout",
     "output_type": "stream",
     "text": [
      "[INFO] Start training and evaluating classifier for Kermit the frog\n",
      "[INFO] Train KNN model for raw pixels\n",
      "[INFO] KNN hyperparameter: k=20\n",
      "[INFO] Predict test data for raw pixels\n",
      "[INFO] Classification Report:\n",
      "              precision    recall  f1-score   support\n",
      "\n",
      "           0       0.98      0.98      0.98       834\n",
      "           1       0.89      0.87      0.88       134\n",
      "\n",
      "    accuracy                           0.97       968\n",
      "   macro avg       0.94      0.93      0.93       968\n",
      "weighted avg       0.97      0.97      0.97       968\n",
      "\n",
      "[INFO] Confusion Matrix:\n"
     ]
    },
    {
     "data": {
      "image/png": "[encoded data removed]",
      "text/plain": [
       "<Figure size 432x288 with 2 Axes>"
      ]
     },
     "metadata": {
      "needs_background": "light"
     },
     "output_type": "display_data"
    },
    {
     "data": {
      "image/png": "[encoded data removed]",
      "text/plain": [
       "<Figure size 432x288 with 1 Axes>"
      ]
     },
     "metadata": {
      "needs_background": "light"
     },
     "output_type": "display_data"
    },
    {
     "name": "stdout",
     "output_type": "stream",
     "text": [
      "[INFO] Train KNN model for color histogram features\n",
      "[INFO] KNN hyperparameter: k=20\n",
      "[INFO] Predict test data for color histogram\n",
      "[INFO] Classification Report:\n",
      "              precision    recall  f1-score   support\n",
      "\n",
      "           0       0.97      0.98      0.98       827\n",
      "           1       0.87      0.84      0.85       141\n",
      "\n",
      "    accuracy                           0.96       968\n",
      "   macro avg       0.92      0.91      0.91       968\n",
      "weighted avg       0.96      0.96      0.96       968\n",
      "\n",
      "[INFO] Confusion Matrix:\n"
     ]
    },
    {
     "data": {
      "image/png": "[encoded data removed]",
      "text/plain": [
       "<Figure size 432x288 with 2 Axes>"
      ]
     },
     "metadata": {
      "needs_background": "light"
     },
     "output_type": "display_data"
    },
    {
     "data": {
      "image/png": "[encoded data removed]",
      "text/plain": [
       "<Figure size 432x288 with 1 Axes>"
      ]
     },
     "metadata": {
      "needs_background": "light"
     },
     "output_type": "display_data"
    }
   ],
   "source": [
    "# Classifiers for Kermit\n",
    "# variables for classifier configuration\n",
    "k = 20\n",
    "\n",
    "print('[INFO] Start training and evaluating classifier for Kermit the frog')\n",
    "\n",
    "# train a KNN classifier on raw pixel data\n",
    "print('[INFO] Train KNN model for raw pixels')\n",
    "print('[INFO] KNN hyperparameter: k=%d' % k)\n",
    "model_raw = KNeighborsClassifier(n_neighbors=k)\n",
    "model_raw.fit(x_train_raw, y_train_raw)\n",
    "print('[INFO] Predict test data for raw pixels')\n",
    "y_pred_raw = model_raw.predict(x_test_raw)\n",
    "print_measures(model_raw, x_test_raw, y_test_raw, y_pred_raw)\n",
    "\n",
    "\n",
    "# train a KNN classifier on histogram features\n",
    "print('[INFO] Train KNN model for color histogram features')\n",
    "print('[INFO] KNN hyperparameter: k=%d' % k)\n",
    "model_hist = KNeighborsClassifier(n_neighbors=k)\n",
    "model_hist.fit(x_train_hist, y_train_hist)\n",
    "print('[INFO] Predict test data for color histogram')\n",
    "y_pred_hist = model_hist.predict(x_test_hist)\n",
    "print_measures(model_hist, x_test_hist, y_test_hist, y_pred_hist)\n"
   ]
  },
  {
   "cell_type": "code",
   "execution_count": 10,
   "metadata": {},
   "outputs": [
    {
     "data": {
      "text/html": [
       "<div>\n",
       "<style scoped>\n",
       "    .dataframe tbody tr th:only-of-type {\n",
       "        vertical-align: middle;\n",
       "    }\n",
       "\n",
       "    .dataframe tbody tr th {\n",
       "        vertical-align: top;\n",
       "    }\n",
       "\n",
       "    .dataframe thead th {\n",
       "        text-align: right;\n",
       "    }\n",
       "</style>\n",
       "<table border=\"1\" class=\"dataframe\">\n",
       "  <thead>\n",
       "    <tr style=\"text-align: right;\">\n",
       "      <th></th>\n",
       "      <th>name</th>\n",
       "      <th>filename</th>\n",
       "      <th>kermit</th>\n",
       "      <th>waldorf_and_statler</th>\n",
       "      <th>pig</th>\n",
       "      <th>swedish_chef</th>\n",
       "    </tr>\n",
       "  </thead>\n",
       "  <tbody>\n",
       "    <tr>\n",
       "      <th>0</th>\n",
       "      <td>1</td>\n",
       "      <td>../../ground_truth/Muppets-02-01-01\\10000_0.png</td>\n",
       "      <td>0</td>\n",
       "      <td>0</td>\n",
       "      <td>0</td>\n",
       "      <td>0</td>\n",
       "    </tr>\n",
       "    <tr>\n",
       "      <th>1</th>\n",
       "      <td>14</td>\n",
       "      <td>../../ground_truth/Muppets-02-01-01\\14008_4.png</td>\n",
       "      <td>0</td>\n",
       "      <td>0</td>\n",
       "      <td>0</td>\n",
       "      <td>0</td>\n",
       "    </tr>\n",
       "    <tr>\n",
       "      <th>2</th>\n",
       "      <td>26</td>\n",
       "      <td>../../ground_truth/Muppets-02-01-01\\26008_4.png</td>\n",
       "      <td>0</td>\n",
       "      <td>0</td>\n",
       "      <td>0</td>\n",
       "      <td>0</td>\n",
       "    </tr>\n",
       "    <tr>\n",
       "      <th>3</th>\n",
       "      <td>38</td>\n",
       "      <td>../../ground_truth/Muppets-02-01-01\\38008_4.png</td>\n",
       "      <td>0</td>\n",
       "      <td>0</td>\n",
       "      <td>0</td>\n",
       "      <td>0</td>\n",
       "    </tr>\n",
       "    <tr>\n",
       "      <th>4</th>\n",
       "      <td>50</td>\n",
       "      <td>../../ground_truth/Muppets-02-01-01\\5008_4.png</td>\n",
       "      <td>0</td>\n",
       "      <td>0</td>\n",
       "      <td>0</td>\n",
       "      <td>0</td>\n",
       "    </tr>\n",
       "    <tr>\n",
       "      <th>...</th>\n",
       "      <td>...</td>\n",
       "      <td>...</td>\n",
       "      <td>...</td>\n",
       "      <td>...</td>\n",
       "      <td>...</td>\n",
       "      <td>...</td>\n",
       "    </tr>\n",
       "    <tr>\n",
       "      <th>3219</th>\n",
       "      <td>38632</td>\n",
       "      <td>../../ground_truth/Muppets-02-01-01\\38632_4.png</td>\n",
       "      <td>0</td>\n",
       "      <td>0</td>\n",
       "      <td>0</td>\n",
       "      <td>0</td>\n",
       "    </tr>\n",
       "    <tr>\n",
       "      <th>3220</th>\n",
       "      <td>38644</td>\n",
       "      <td>../../ground_truth/Muppets-02-01-01\\38644_4.png</td>\n",
       "      <td>0</td>\n",
       "      <td>0</td>\n",
       "      <td>0</td>\n",
       "      <td>0</td>\n",
       "    </tr>\n",
       "    <tr>\n",
       "      <th>3221</th>\n",
       "      <td>38656</td>\n",
       "      <td>../../ground_truth/Muppets-02-01-01\\38656_4.png</td>\n",
       "      <td>0</td>\n",
       "      <td>0</td>\n",
       "      <td>0</td>\n",
       "      <td>0</td>\n",
       "    </tr>\n",
       "    <tr>\n",
       "      <th>3222</th>\n",
       "      <td>38668</td>\n",
       "      <td>../../ground_truth/Muppets-02-01-01\\38668_4.png</td>\n",
       "      <td>0</td>\n",
       "      <td>0</td>\n",
       "      <td>0</td>\n",
       "      <td>0</td>\n",
       "    </tr>\n",
       "    <tr>\n",
       "      <th>3223</th>\n",
       "      <td>38680</td>\n",
       "      <td>../../ground_truth/Muppets-02-01-01\\38680_4.png</td>\n",
       "      <td>0</td>\n",
       "      <td>0</td>\n",
       "      <td>0</td>\n",
       "      <td>0</td>\n",
       "    </tr>\n",
       "  </tbody>\n",
       "</table>\n",
       "<p>3224 rows × 6 columns</p>\n",
       "</div>"
      ],
      "text/plain": [
       "       name                                         filename kermit  \\\n",
       "0         1  ../../ground_truth/Muppets-02-01-01\\10000_0.png      0   \n",
       "1        14  ../../ground_truth/Muppets-02-01-01\\14008_4.png      0   \n",
       "2        26  ../../ground_truth/Muppets-02-01-01\\26008_4.png      0   \n",
       "3        38  ../../ground_truth/Muppets-02-01-01\\38008_4.png      0   \n",
       "4        50   ../../ground_truth/Muppets-02-01-01\\5008_4.png      0   \n",
       "...     ...                                              ...    ...   \n",
       "3219  38632  ../../ground_truth/Muppets-02-01-01\\38632_4.png      0   \n",
       "3220  38644  ../../ground_truth/Muppets-02-01-01\\38644_4.png      0   \n",
       "3221  38656  ../../ground_truth/Muppets-02-01-01\\38656_4.png      0   \n",
       "3222  38668  ../../ground_truth/Muppets-02-01-01\\38668_4.png      0   \n",
       "3223  38680  ../../ground_truth/Muppets-02-01-01\\38680_4.png      0   \n",
       "\n",
       "     waldorf_and_statler pig swedish_chef  \n",
       "0                      0   0            0  \n",
       "1                      0   0            0  \n",
       "2                      0   0            0  \n",
       "3                      0   0            0  \n",
       "4                      0   0            0  \n",
       "...                  ...  ..          ...  \n",
       "3219                   0   0            0  \n",
       "3220                   0   0            0  \n",
       "3221                   0   0            0  \n",
       "3222                   0   0            0  \n",
       "3223                   0   0            0  \n",
       "\n",
       "[3224 rows x 6 columns]"
      ]
     },
     "execution_count": 10,
     "metadata": {},
     "output_type": "execute_result"
    }
   ],
   "source": [
    "## Identifying Waldorf/Statler\n",
    "data"
   ]
  }
 ],
 "metadata": {
  "kernelspec": {
   "display_name": "Python 3",
   "language": "python",
   "name": "python3"
  },
  "language_info": {
   "codemirror_mode": {
    "name": "ipython",
    "version": 3
   },
   "file_extension": ".py",
   "mimetype": "text/x-python",
   "name": "python",
   "nbconvert_exporter": "python",
   "pygments_lexer": "ipython3",
   "version": "3.7.4"
  }
 },
 "nbformat": 4,
 "nbformat_minor": 2
}
