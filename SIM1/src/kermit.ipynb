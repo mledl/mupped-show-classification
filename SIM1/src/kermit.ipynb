{
 "cells": [
  {
   "cell_type": "code",
   "execution_count": 38,
   "metadata": {},
   "outputs": [],
   "source": [
    "# imports\n",
    "import keras \n",
    "import cv2 # opencv\n",
    "import glob\n",
    "import os\n",
    "from pathlib import Path"
   ]
  },
  {
   "cell_type": "code",
   "execution_count": 30,
   "metadata": {},
   "outputs": [],
   "source": [
    "# definitons of constants/variables\n",
    "video_file_glob_path = '../../videos/*.avi'\n",
    "image_base_path = '../../images/'"
   ]
  },
  {
   "cell_type": "code",
   "execution_count": 41,
   "metadata": {},
   "outputs": [],
   "source": [
    "# capture the videos and extract frames\n",
    "for video_path in glob.glob(video_file_glob_path):\n",
    "    cap = cv2.VideoCapture(video_path)\n",
    "    frame_rate = cap.get(5)\n",
    "    image_folder_path = image_base_path + os.path.basename(video_path).split('.')[0]\n",
    "    Path(image_folder_path).mkdir(parents=True, exist_ok=True)\n",
    "    \n",
    "    while(cap.isOpened()):\n",
    "        frame_id = cap.get(1)\n",
    "        ret, frame = cap.read()\n",
    "        \n",
    "        if not ret:\n",
    "            print('Failed to read frame %d of video %r.', frame_id, video_path)\n",
    "            break\n",
    "            \n",
    "        filename = image_folder_path + '/frame%d.jpg' % frame_id\n",
    "        cv2.imwrite(filename, frame)\n",
    "        \n",
    "        if frame_id == 200:\n",
    "            break\n",
    "    "
   ]
  },
  {
   "cell_type": "code",
   "execution_count": null,
   "metadata": {},
   "outputs": [],
   "source": []
  }
 ],
 "metadata": {
  "kernelspec": {
   "display_name": "Python 3",
   "language": "python",
   "name": "python3"
  },
  "language_info": {
   "codemirror_mode": {
    "name": "ipython",
    "version": 3
   },
   "file_extension": ".py",
   "mimetype": "text/x-python",
   "name": "python",
   "nbconvert_exporter": "python",
   "pygments_lexer": "ipython3",
   "version": "3.7.4"
  }
 },
 "nbformat": 4,
 "nbformat_minor": 2
}
